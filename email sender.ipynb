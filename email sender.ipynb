{
 "cells": [
  {
   "cell_type": "code",
   "execution_count": null,
   "metadata": {},
   "outputs": [],
   "source": [
    "from tkinter import *\n",
    "import tkinter as tk\n",
    "from PIL import ImageTk, Image\n",
    "from tkinter import messagebox\n",
    "import smtplib\n",
    "from tkinter.scrolledtext import ScrolledText\n",
    "root =tk.Tk()\n",
    "root.title('Email sender')\n",
    "root.geometry('900x800')\n",
    "root.maxsize(900, 800)\n",
    "root.minsize(900, 800)\n",
    "\n",
    "header =Label(root,bg= \"orange\", width=300, height=2)\n",
    "header.place(x=0, y=0)\n",
    "h1 =Label(root, text =\"Email Sender\", bg=\"orange\", fg=\"black\", font=(\"verdana\", 13, \"bold\"))\n",
    "h1.place(x=135, y=5)\n",
    "\n",
    "root.mainloop()"
   ]
  },
  {
   "cell_type": "code",
   "execution_count": null,
   "metadata": {},
   "outputs": [],
   "source": []
  },
  {
   "cell_type": "code",
   "execution_count": null,
   "metadata": {
    "collapsed": true
   },
   "outputs": [],
   "source": []
  }
 ],
 "metadata": {
  "kernelspec": {
   "display_name": "Python 3",
   "language": "python",
   "name": "python3"
  },
  "language_info": {
   "codemirror_mode": {
    "name": "ipython",
    "version": 3
   },
   "file_extension": ".py",
   "mimetype": "text/x-python",
   "name": "python",
   "nbconvert_exporter": "python",
   "pygments_lexer": "ipython3",
   "version": "3.8.5"
  }
 },
 "nbformat": 4,
 "nbformat_minor": 4
}
